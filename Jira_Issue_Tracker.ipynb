{
 "cells": [
  {
   "cell_type": "markdown",
   "metadata": {},
   "source": [
    "Configuração inicial\n",
    "--\n",
    "Começo importando a biblioteca [Python Jira](https://jira.readthedocs.io/), a qual me permite fazer uso da API REST do Jira.\n",
    "\n",
    "Em seguida crio um objeto JIRA, passando a autenticação básica (``username`` e ``password``) e o servidor onde está o Jira Software."
   ]
  },
  {
   "cell_type": "code",
   "execution_count": 223,
   "metadata": {},
   "outputs": [],
   "source": [
    "from jira import JIRA\n",
    "jira = JIRA(basic_auth=('xb218744', 'RFbAHDs3dcJ2e2z'), options={'server': 'http://localhost:8080'})"
   ]
  },
  {
   "cell_type": "markdown",
   "metadata": {},
   "source": [
    "Explorando o objeto ``jira``\n",
    "--\n",
    "Aqui, verifico os tipos de issues que estão configurados."
   ]
  },
  {
   "cell_type": "code",
   "execution_count": 224,
   "metadata": {},
   "outputs": [
    {
     "data": {
      "text/plain": [
       "[{'id': '10003', 'name': 'Tarefa'},\n",
       " {'id': '10004', 'name': 'Sub-tarefa'},\n",
       " {'id': '10002', 'name': 'História'},\n",
       " {'id': '10005', 'name': 'Problema'},\n",
       " {'id': '10001', 'name': 'Épico'},\n",
       " {'id': '10000', 'name': 'Sub-task'}]"
      ]
     },
     "execution_count": 224,
     "metadata": {},
     "output_type": "execute_result"
    }
   ],
   "source": [
    "issue_types = [{'id': issue_type.id, 'name': issue_type.name} for issue_type in jira.issue_types()]\n",
    "issue_types"
   ]
  },
  {
   "cell_type": "markdown",
   "metadata": {},
   "source": [
    "E aqui, exploro os status que podem ser atribuídos às issues."
   ]
  },
  {
   "cell_type": "code",
   "execution_count": 225,
   "metadata": {},
   "outputs": [
    {
     "data": {
      "text/plain": [
       "[{'id': '3', 'name': 'In Progress'},\n",
       " {'id': '10000', 'name': 'To Do'},\n",
       " {'id': '10001', 'name': 'Done'}]"
      ]
     },
     "execution_count": 225,
     "metadata": {},
     "output_type": "execute_result"
    }
   ],
   "source": [
    "statuses_types = [{'id': status_type.id, 'name': status_type.name} for status_type in jira.statuses()]\n",
    "statuses_types"
   ]
  },
  {
   "cell_type": "code",
   "execution_count": 226,
   "metadata": {},
   "outputs": [
    {
     "data": {
      "text/plain": [
       "'To Do'"
      ]
     },
     "execution_count": 226,
     "metadata": {},
     "output_type": "execute_result"
    }
   ],
   "source": [
    "d = [st for st in statuses_types if st.get('name') == 'To Do'][0].get('name')\n",
    "d"
   ]
  },
  {
   "cell_type": "markdown",
   "metadata": {},
   "source": [
    "Buscando os recursos necessários\n",
    "--\n",
    "Aqui, utilizo JQL (acrônimo para Jira Query Language) para definir alguns filtros para a busca por issues.\n",
    "\n",
    "Defino o projeto como sendo ``PPJ``, além de que o tipo da issue deva estar entre os tipos padrões de issues (o que não inclui sub-task) e, por fim, que o tipo da issue não seja ``Épico`` (no caso utilizo o id 10001, para garantir que não haja problema com o idioma).\n",
    "\n",
    "Após definir a variável ``jql``, crio uma variável chamada ``issues`` a qual armazena o resultado da função ``jira.search_issues()``, onde foi definida com os parâmetros ``maxResults=100``, para a quantidade máxima de resultados e o parâmetro ``expand='changelog'``, que expande a busca além das issues, retornando também o changelog de cada uma.\n",
    "\n",
    "Por último, imprimo a lista de issues retornadas."
   ]
  },
  {
   "cell_type": "code",
   "execution_count": 227,
   "metadata": {},
   "outputs": [
    {
     "data": {
      "text/plain": [
       "[<JIRA Issue: key='PPJ-13', id='10012'>,\n",
       " <JIRA Issue: key='PPJ-12', id='10011'>,\n",
       " <JIRA Issue: key='PPJ-11', id='10010'>,\n",
       " <JIRA Issue: key='PPJ-10', id='10009'>,\n",
       " <JIRA Issue: key='PPJ-9', id='10008'>,\n",
       " <JIRA Issue: key='PPJ-8', id='10007'>,\n",
       " <JIRA Issue: key='PPJ-7', id='10006'>,\n",
       " <JIRA Issue: key='PPJ-6', id='10005'>,\n",
       " <JIRA Issue: key='PPJ-5', id='10004'>,\n",
       " <JIRA Issue: key='PPJ-4', id='10003'>,\n",
       " <JIRA Issue: key='PPJ-3', id='10002'>,\n",
       " <JIRA Issue: key='PPJ-2', id='10001'>,\n",
       " <JIRA Issue: key='PPJ-1', id='10000'>]"
      ]
     },
     "execution_count": 227,
     "metadata": {},
     "output_type": "execute_result"
    }
   ],
   "source": [
    "jql = 'project=PPJ AND issuetype in standardIssueTypes() AND issueType != 10001'\n",
    "issues = jira.search_issues(jql, maxResults=100, expand='changelog', fields='summary, project')\n",
    "issues"
   ]
  },
  {
   "cell_type": "markdown",
   "metadata": {},
   "source": [
    "Lista de issues\n",
    "--\n",
    "Aqui crio uma lista contendo as issues do projeto que atendem os critérios acima.\n",
    "\n",
    "Para cada issue eu itero a lista de changelog ``issue.changelog.histories``, em seguida para cada histórico eu acesso os seus itens e também os itero, pois é nesse recurso que conseguimos o status da issue.\n",
    "\n",
    "Após passar pela condição ``item.field == 'status'``, adiciono um dictionary para cada issue à lista criada na primeira linha da célula seguinte. "
   ]
  },
  {
   "cell_type": "code",
   "execution_count": 297,
   "metadata": {},
   "outputs": [],
   "source": [
    "raw_issues = []\n",
    "for issue in issues:\n",
    "    for history in issue.changelog.histories:\n",
    "        for item in history.items:\n",
    "            if item.field == 'status':\n",
    "                transition_date = history.created\n",
    "                raw_issues.append({\n",
    "                    'id_project': issue.fields.project.key,\n",
    "                    'id_issue': issue.key,\n",
    "                    'summary': issue.fields.summary,\n",
    "                    'to_do': transition_date if item.toString == 'To Do' else '',\n",
    "                    'in_progress': transition_date if item.toString == 'In Progress' else '',\n",
    "                    'done': transition_date if item.toString == 'Done' else '',\n",
    "                    'from_status': item.fromString,\n",
    "                    'to_status': item.toString\n",
    "                })"
   ]
  },
  {
   "cell_type": "markdown",
   "metadata": {},
   "source": [
    "Pandas e o DataFrame\n",
    "--\n",
    "Primeiramente importo a biblioteca pandas, a qual é utilizada para estruturar dados e aplicar ferramentas analíticas à eles. Mas neste caso, utilizo apenas para criar a estrutura do que será exportado para um arquivo CSV.\n",
    "\n",
    "Crio o DataFrame a partir do dictionary criado anteriormente, defino o índice como sendo o campo ``id_issue`` e ordeno a lista baseado no ``to_status`` e seleciono as colunas que irão aparecer e em que ordem (neste caso é mais pela ordem do que pela seleção de fato, já que o dictionary já foi criado na estrutura esperada)."
   ]
  },
  {
   "cell_type": "code",
   "execution_count": 298,
   "metadata": {},
   "outputs": [
    {
     "data": {
      "text/html": [
       "<div>\n",
       "<style scoped>\n",
       "    .dataframe tbody tr th:only-of-type {\n",
       "        vertical-align: middle;\n",
       "    }\n",
       "\n",
       "    .dataframe tbody tr th {\n",
       "        vertical-align: top;\n",
       "    }\n",
       "\n",
       "    .dataframe thead th {\n",
       "        text-align: right;\n",
       "    }\n",
       "</style>\n",
       "<table border=\"1\" class=\"dataframe\">\n",
       "  <thead>\n",
       "    <tr style=\"text-align: right;\">\n",
       "      <th></th>\n",
       "      <th>summary</th>\n",
       "      <th>to_do</th>\n",
       "      <th>in_progress</th>\n",
       "      <th>done</th>\n",
       "      <th>from_status</th>\n",
       "      <th>to_status</th>\n",
       "    </tr>\n",
       "    <tr>\n",
       "      <th>id_issue</th>\n",
       "      <th></th>\n",
       "      <th></th>\n",
       "      <th></th>\n",
       "      <th></th>\n",
       "      <th></th>\n",
       "      <th></th>\n",
       "    </tr>\n",
       "  </thead>\n",
       "  <tbody>\n",
       "    <tr>\n",
       "      <th>PPJ-9</th>\n",
       "      <td>Tarefa de desenvolvimento 008</td>\n",
       "      <td></td>\n",
       "      <td></td>\n",
       "      <td>2019-01-30T15:57:06.522-0200</td>\n",
       "      <td>In Progress</td>\n",
       "      <td>Done</td>\n",
       "    </tr>\n",
       "    <tr>\n",
       "      <th>PPJ-4</th>\n",
       "      <td>Tarefa de desenvolvimento 003</td>\n",
       "      <td></td>\n",
       "      <td></td>\n",
       "      <td>2019-01-30T17:46:59.403-0200</td>\n",
       "      <td>To Do</td>\n",
       "      <td>Done</td>\n",
       "    </tr>\n",
       "    <tr>\n",
       "      <th>PPJ-9</th>\n",
       "      <td>Tarefa de desenvolvimento 008</td>\n",
       "      <td></td>\n",
       "      <td></td>\n",
       "      <td>2019-01-30T12:48:22.863-0200</td>\n",
       "      <td>To Do</td>\n",
       "      <td>Done</td>\n",
       "    </tr>\n",
       "    <tr>\n",
       "      <th>PPJ-10</th>\n",
       "      <td>Tarefa de desenvolvimento 009</td>\n",
       "      <td></td>\n",
       "      <td>2019-01-30T17:46:52.892-0200</td>\n",
       "      <td></td>\n",
       "      <td>To Do</td>\n",
       "      <td>In Progress</td>\n",
       "    </tr>\n",
       "    <tr>\n",
       "      <th>PPJ-9</th>\n",
       "      <td>Tarefa de desenvolvimento 008</td>\n",
       "      <td></td>\n",
       "      <td>2019-01-30T12:48:05.619-0200</td>\n",
       "      <td></td>\n",
       "      <td>To Do</td>\n",
       "      <td>In Progress</td>\n",
       "    </tr>\n",
       "    <tr>\n",
       "      <th>PPJ-9</th>\n",
       "      <td>Tarefa de desenvolvimento 008</td>\n",
       "      <td></td>\n",
       "      <td>2019-01-30T15:57:05.111-0200</td>\n",
       "      <td></td>\n",
       "      <td>To Do</td>\n",
       "      <td>In Progress</td>\n",
       "    </tr>\n",
       "    <tr>\n",
       "      <th>PPJ-6</th>\n",
       "      <td>Tarefa de desenvolvimento 005</td>\n",
       "      <td></td>\n",
       "      <td>2019-01-30T17:47:21.255-0200</td>\n",
       "      <td></td>\n",
       "      <td>To Do</td>\n",
       "      <td>In Progress</td>\n",
       "    </tr>\n",
       "    <tr>\n",
       "      <th>PPJ-7</th>\n",
       "      <td>Tarefa de desenvolvimento 006</td>\n",
       "      <td></td>\n",
       "      <td>2019-01-30T17:47:29.705-0200</td>\n",
       "      <td></td>\n",
       "      <td>To Do</td>\n",
       "      <td>In Progress</td>\n",
       "    </tr>\n",
       "    <tr>\n",
       "      <th>PPJ-3</th>\n",
       "      <td>Tarefa de desenvolvimento 002</td>\n",
       "      <td>2019-01-30T17:47:14.011-0200</td>\n",
       "      <td></td>\n",
       "      <td></td>\n",
       "      <td>To Do</td>\n",
       "      <td>To Do</td>\n",
       "    </tr>\n",
       "    <tr>\n",
       "      <th>PPJ-5</th>\n",
       "      <td>Tarefa de desenvolvimento 004</td>\n",
       "      <td>2019-01-30T17:46:42.453-0200</td>\n",
       "      <td></td>\n",
       "      <td></td>\n",
       "      <td>To Do</td>\n",
       "      <td>To Do</td>\n",
       "    </tr>\n",
       "    <tr>\n",
       "      <th>PPJ-6</th>\n",
       "      <td>Tarefa de desenvolvimento 005</td>\n",
       "      <td>2019-01-30T17:46:30.742-0200</td>\n",
       "      <td></td>\n",
       "      <td></td>\n",
       "      <td>To Do</td>\n",
       "      <td>To Do</td>\n",
       "    </tr>\n",
       "    <tr>\n",
       "      <th>PPJ-12</th>\n",
       "      <td>Issue Teste #002</td>\n",
       "      <td>2019-01-30T18:27:12.299-0200</td>\n",
       "      <td></td>\n",
       "      <td></td>\n",
       "      <td>To Do</td>\n",
       "      <td>To Do</td>\n",
       "    </tr>\n",
       "    <tr>\n",
       "      <th>PPJ-2</th>\n",
       "      <td>Tarefa de desenvolvimento 001</td>\n",
       "      <td>2019-01-30T17:47:10.669-0200</td>\n",
       "      <td></td>\n",
       "      <td></td>\n",
       "      <td>To Do</td>\n",
       "      <td>To Do</td>\n",
       "    </tr>\n",
       "    <tr>\n",
       "      <th>PPJ-9</th>\n",
       "      <td>Tarefa de desenvolvimento 008</td>\n",
       "      <td>2019-01-30T15:57:02.049-0200</td>\n",
       "      <td></td>\n",
       "      <td></td>\n",
       "      <td>Done</td>\n",
       "      <td>To Do</td>\n",
       "    </tr>\n",
       "    <tr>\n",
       "      <th>PPJ-9</th>\n",
       "      <td>Tarefa de desenvolvimento 008</td>\n",
       "      <td>2019-01-30T12:48:21.211-0200</td>\n",
       "      <td></td>\n",
       "      <td></td>\n",
       "      <td>In Progress</td>\n",
       "      <td>To Do</td>\n",
       "    </tr>\n",
       "    <tr>\n",
       "      <th>PPJ-11</th>\n",
       "      <td>Issue teste</td>\n",
       "      <td>2019-01-30T18:26:14.185-0200</td>\n",
       "      <td></td>\n",
       "      <td></td>\n",
       "      <td>To Do</td>\n",
       "      <td>To Do</td>\n",
       "    </tr>\n",
       "    <tr>\n",
       "      <th>PPJ-8</th>\n",
       "      <td>Tarefa de desenvolvimento 007</td>\n",
       "      <td>2019-01-30T17:46:46.615-0200</td>\n",
       "      <td></td>\n",
       "      <td></td>\n",
       "      <td>To Do</td>\n",
       "      <td>To Do</td>\n",
       "    </tr>\n",
       "    <tr>\n",
       "      <th>PPJ-1</th>\n",
       "      <td>I-932</td>\n",
       "      <td>2019-01-30T17:47:07.147-0200</td>\n",
       "      <td></td>\n",
       "      <td></td>\n",
       "      <td>To Do</td>\n",
       "      <td>To Do</td>\n",
       "    </tr>\n",
       "  </tbody>\n",
       "</table>\n",
       "</div>"
      ],
      "text/plain": [
       "                                summary                         to_do  \\\n",
       "id_issue                                                                \n",
       "PPJ-9     Tarefa de desenvolvimento 008                                 \n",
       "PPJ-4     Tarefa de desenvolvimento 003                                 \n",
       "PPJ-9     Tarefa de desenvolvimento 008                                 \n",
       "PPJ-10    Tarefa de desenvolvimento 009                                 \n",
       "PPJ-9     Tarefa de desenvolvimento 008                                 \n",
       "PPJ-9     Tarefa de desenvolvimento 008                                 \n",
       "PPJ-6     Tarefa de desenvolvimento 005                                 \n",
       "PPJ-7     Tarefa de desenvolvimento 006                                 \n",
       "PPJ-3     Tarefa de desenvolvimento 002  2019-01-30T17:47:14.011-0200   \n",
       "PPJ-5     Tarefa de desenvolvimento 004  2019-01-30T17:46:42.453-0200   \n",
       "PPJ-6     Tarefa de desenvolvimento 005  2019-01-30T17:46:30.742-0200   \n",
       "PPJ-12                 Issue Teste #002  2019-01-30T18:27:12.299-0200   \n",
       "PPJ-2     Tarefa de desenvolvimento 001  2019-01-30T17:47:10.669-0200   \n",
       "PPJ-9     Tarefa de desenvolvimento 008  2019-01-30T15:57:02.049-0200   \n",
       "PPJ-9     Tarefa de desenvolvimento 008  2019-01-30T12:48:21.211-0200   \n",
       "PPJ-11                      Issue teste  2019-01-30T18:26:14.185-0200   \n",
       "PPJ-8     Tarefa de desenvolvimento 007  2019-01-30T17:46:46.615-0200   \n",
       "PPJ-1                             I-932  2019-01-30T17:47:07.147-0200   \n",
       "\n",
       "                           in_progress                          done  \\\n",
       "id_issue                                                               \n",
       "PPJ-9                                   2019-01-30T15:57:06.522-0200   \n",
       "PPJ-4                                   2019-01-30T17:46:59.403-0200   \n",
       "PPJ-9                                   2019-01-30T12:48:22.863-0200   \n",
       "PPJ-10    2019-01-30T17:46:52.892-0200                                 \n",
       "PPJ-9     2019-01-30T12:48:05.619-0200                                 \n",
       "PPJ-9     2019-01-30T15:57:05.111-0200                                 \n",
       "PPJ-6     2019-01-30T17:47:21.255-0200                                 \n",
       "PPJ-7     2019-01-30T17:47:29.705-0200                                 \n",
       "PPJ-3                                                                  \n",
       "PPJ-5                                                                  \n",
       "PPJ-6                                                                  \n",
       "PPJ-12                                                                 \n",
       "PPJ-2                                                                  \n",
       "PPJ-9                                                                  \n",
       "PPJ-9                                                                  \n",
       "PPJ-11                                                                 \n",
       "PPJ-8                                                                  \n",
       "PPJ-1                                                                  \n",
       "\n",
       "          from_status    to_status  \n",
       "id_issue                            \n",
       "PPJ-9     In Progress         Done  \n",
       "PPJ-4           To Do         Done  \n",
       "PPJ-9           To Do         Done  \n",
       "PPJ-10          To Do  In Progress  \n",
       "PPJ-9           To Do  In Progress  \n",
       "PPJ-9           To Do  In Progress  \n",
       "PPJ-6           To Do  In Progress  \n",
       "PPJ-7           To Do  In Progress  \n",
       "PPJ-3           To Do        To Do  \n",
       "PPJ-5           To Do        To Do  \n",
       "PPJ-6           To Do        To Do  \n",
       "PPJ-12          To Do        To Do  \n",
       "PPJ-2           To Do        To Do  \n",
       "PPJ-9            Done        To Do  \n",
       "PPJ-9     In Progress        To Do  \n",
       "PPJ-11          To Do        To Do  \n",
       "PPJ-8           To Do        To Do  \n",
       "PPJ-1           To Do        To Do  "
      ]
     },
     "execution_count": 298,
     "metadata": {},
     "output_type": "execute_result"
    }
   ],
   "source": [
    "import pandas as pd\n",
    "df = pd.DataFrame.from_dict(raw_issues).set_index(['id_issue']).sort_values(['to_status'])\\\n",
    "    [['summary', 'to_do', 'in_progress', 'done', 'from_status', 'to_status']]\n",
    "df"
   ]
  },
  {
   "cell_type": "markdown",
   "metadata": {},
   "source": [
    "Exportando o arquivo\n",
    "--\n",
    "Após tudo isso, exporto o DataFrame para um arquivo CSV, o qual poderá ser utilizado em qualquer ferramenta que o suporte."
   ]
  },
  {
   "cell_type": "code",
   "execution_count": 299,
   "metadata": {},
   "outputs": [],
   "source": [
    "df.to_csv('jira.csv')"
   ]
  }
 ],
 "metadata": {
  "kernelspec": {
   "display_name": "Python 3",
   "language": "python",
   "name": "python3"
  },
  "language_info": {
   "codemirror_mode": {
    "name": "ipython",
    "version": 3
   },
   "file_extension": ".py",
   "mimetype": "text/x-python",
   "name": "python",
   "nbconvert_exporter": "python",
   "pygments_lexer": "ipython3",
   "version": "3.7.2"
  }
 },
 "nbformat": 4,
 "nbformat_minor": 2
}
