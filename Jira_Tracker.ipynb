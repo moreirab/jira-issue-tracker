{
 "cells": [
  {
   "cell_type": "code",
   "execution_count": 182,
   "metadata": {},
   "outputs": [],
   "source": [
    "from jira import JIRA\n",
    "\n",
    "host = 'http://localhost:8080'\n",
    "username = 'xb218744'\n",
    "password = 'RFbAHDs3dcJ2e2z'\n",
    "issue_key = 'PPJ-9'\n",
    "\n",
    "jira = JIRA(basic_auth=(username, password), options={'server': host})\n",
    "issue = jira.issue(issue_key, expand='changelog')\n",
    "changelog = issue.changelog\n",
    "\n",
    "#print(issue.fields.project.key)\n",
    "#print(issue.fields.issuetype.name)\n",
    "#print(issue.fields.reporter.displayName)\n",
    "#print(issue.fields.status.name)\n",
    "#print(issue.fields.summary)"
   ]
  },
  {
   "cell_type": "code",
   "execution_count": 183,
   "metadata": {},
   "outputs": [],
   "source": [
    "status_history = []\n",
    "for history in changelog.histories:\n",
    "    for item in history.items:\n",
    "        if item.field == 'status':\n",
    "            status_history.append({\n",
    "                'id_project': issue.fields.project.key,\n",
    "                'id_issue': issue.key,\n",
    "                'summary': issue.fields.summary,\n",
    "                'date': history.created,\n",
    "                'from_status': item.fromString,\n",
    "                'to_status': item.toString\n",
    "            })"
   ]
  },
  {
   "cell_type": "code",
   "execution_count": 184,
   "metadata": {},
   "outputs": [
    {
     "data": {
      "text/html": [
       "<div>\n",
       "<style scoped>\n",
       "    .dataframe tbody tr th:only-of-type {\n",
       "        vertical-align: middle;\n",
       "    }\n",
       "\n",
       "    .dataframe tbody tr th {\n",
       "        vertical-align: top;\n",
       "    }\n",
       "\n",
       "    .dataframe thead th {\n",
       "        text-align: right;\n",
       "    }\n",
       "</style>\n",
       "<table border=\"1\" class=\"dataframe\">\n",
       "  <thead>\n",
       "    <tr style=\"text-align: right;\">\n",
       "      <th></th>\n",
       "      <th></th>\n",
       "      <th>summary</th>\n",
       "      <th>date</th>\n",
       "      <th>from_status</th>\n",
       "      <th>to_status</th>\n",
       "    </tr>\n",
       "    <tr>\n",
       "      <th>id_project</th>\n",
       "      <th>id_issue</th>\n",
       "      <th></th>\n",
       "      <th></th>\n",
       "      <th></th>\n",
       "      <th></th>\n",
       "    </tr>\n",
       "  </thead>\n",
       "  <tbody>\n",
       "    <tr>\n",
       "      <th rowspan=\"6\" valign=\"top\">PPJ</th>\n",
       "      <th>PPJ-9</th>\n",
       "      <td>Tarefa de desenvolvimento 008</td>\n",
       "      <td>2019-01-30T12:48:05.619-0200</td>\n",
       "      <td>To Do</td>\n",
       "      <td>In Progress</td>\n",
       "    </tr>\n",
       "    <tr>\n",
       "      <th>PPJ-9</th>\n",
       "      <td>Tarefa de desenvolvimento 008</td>\n",
       "      <td>2019-01-30T12:48:21.211-0200</td>\n",
       "      <td>In Progress</td>\n",
       "      <td>To Do</td>\n",
       "    </tr>\n",
       "    <tr>\n",
       "      <th>PPJ-9</th>\n",
       "      <td>Tarefa de desenvolvimento 008</td>\n",
       "      <td>2019-01-30T12:48:22.863-0200</td>\n",
       "      <td>To Do</td>\n",
       "      <td>Done</td>\n",
       "    </tr>\n",
       "    <tr>\n",
       "      <th>PPJ-9</th>\n",
       "      <td>Tarefa de desenvolvimento 008</td>\n",
       "      <td>2019-01-30T15:57:02.049-0200</td>\n",
       "      <td>Done</td>\n",
       "      <td>To Do</td>\n",
       "    </tr>\n",
       "    <tr>\n",
       "      <th>PPJ-9</th>\n",
       "      <td>Tarefa de desenvolvimento 008</td>\n",
       "      <td>2019-01-30T15:57:05.111-0200</td>\n",
       "      <td>To Do</td>\n",
       "      <td>In Progress</td>\n",
       "    </tr>\n",
       "    <tr>\n",
       "      <th>PPJ-9</th>\n",
       "      <td>Tarefa de desenvolvimento 008</td>\n",
       "      <td>2019-01-30T15:57:06.522-0200</td>\n",
       "      <td>In Progress</td>\n",
       "      <td>Done</td>\n",
       "    </tr>\n",
       "  </tbody>\n",
       "</table>\n",
       "</div>"
      ],
      "text/plain": [
       "                                           summary  \\\n",
       "id_project id_issue                                  \n",
       "PPJ        PPJ-9     Tarefa de desenvolvimento 008   \n",
       "           PPJ-9     Tarefa de desenvolvimento 008   \n",
       "           PPJ-9     Tarefa de desenvolvimento 008   \n",
       "           PPJ-9     Tarefa de desenvolvimento 008   \n",
       "           PPJ-9     Tarefa de desenvolvimento 008   \n",
       "           PPJ-9     Tarefa de desenvolvimento 008   \n",
       "\n",
       "                                             date  from_status    to_status  \n",
       "id_project id_issue                                                          \n",
       "PPJ        PPJ-9     2019-01-30T12:48:05.619-0200        To Do  In Progress  \n",
       "           PPJ-9     2019-01-30T12:48:21.211-0200  In Progress        To Do  \n",
       "           PPJ-9     2019-01-30T12:48:22.863-0200        To Do         Done  \n",
       "           PPJ-9     2019-01-30T15:57:02.049-0200         Done        To Do  \n",
       "           PPJ-9     2019-01-30T15:57:05.111-0200        To Do  In Progress  \n",
       "           PPJ-9     2019-01-30T15:57:06.522-0200  In Progress         Done  "
      ]
     },
     "execution_count": 184,
     "metadata": {},
     "output_type": "execute_result"
    }
   ],
   "source": [
    "column_order = ['id_project', 'id_issue', 'summary', 'date', 'from_status', 'to_status']\n",
    "df = pd.DataFrame.from_dict(status_history)[column_order]\n",
    "df.set_index(['id_project', 'id_issue'])"
   ]
  },
  {
   "cell_type": "code",
   "execution_count": 185,
   "metadata": {},
   "outputs": [],
   "source": [
    "#df.to_csv('test.csv', index=False)"
   ]
  }
 ],
 "metadata": {
  "kernelspec": {
   "display_name": "Python 3",
   "language": "python",
   "name": "python3"
  },
  "language_info": {
   "codemirror_mode": {
    "name": "ipython",
    "version": 3
   },
   "file_extension": ".py",
   "mimetype": "text/x-python",
   "name": "python",
   "nbconvert_exporter": "python",
   "pygments_lexer": "ipython3",
   "version": "3.7.2"
  }
 },
 "nbformat": 4,
 "nbformat_minor": 2
}
