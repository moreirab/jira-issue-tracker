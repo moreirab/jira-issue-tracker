{
 "cells": [
  {
   "cell_type": "markdown",
   "metadata": {},
   "source": [
    "Configuração inicial\n",
    "--\n",
    "Começo importando a biblioteca [Python Jira](https://jira.readthedocs.io/), a qual me permite fazer uso da API REST do Jira.\n",
    "\n",
    "Em seguida crio um objeto JIRA, passando a autenticação básica (``username`` e ``password``) e o servidor onde está o Jira Software."
   ]
  },
  {
   "cell_type": "code",
   "execution_count": 182,
   "metadata": {},
   "outputs": [],
   "source": [
    "from jira import JIRA\n",
    "jira = JIRA(basic_auth=('xb218744', 'RFbAHDs3dcJ2e2z'), options={'server': 'http://localhost:8080'})"
   ]
  },
  {
   "cell_type": "markdown",
   "metadata": {},
   "source": [
    "Explorando o objeto ``jira``\n",
    "--\n",
    "Aqui, verifico os tipos de issues que estão configurados."
   ]
  },
  {
   "cell_type": "code",
   "execution_count": 184,
   "metadata": {},
   "outputs": [
    {
     "data": {
      "text/plain": [
       "[<JIRA IssueType: name='Tarefa', id='10003'>,\n",
       " <JIRA IssueType: name='Sub-tarefa', id='10004'>,\n",
       " <JIRA IssueType: name='História', id='10002'>,\n",
       " <JIRA IssueType: name='Problema', id='10005'>,\n",
       " <JIRA IssueType: name='Épico', id='10001'>,\n",
       " <JIRA IssueType: name='Sub-task', id='10000'>]"
      ]
     },
     "execution_count": 184,
     "metadata": {},
     "output_type": "execute_result"
    }
   ],
   "source": [
    "issue_types = jira.issue_types()\n",
    "issue_types"
   ]
  },
  {
   "cell_type": "markdown",
   "metadata": {},
   "source": [
    "E aqui, exploro os status que podem ser atribuídos às issues."
   ]
  },
  {
   "cell_type": "code",
   "execution_count": 185,
   "metadata": {},
   "outputs": [
    {
     "data": {
      "text/plain": [
       "[<JIRA Status: name='In Progress', id='3'>,\n",
       " <JIRA Status: name='To Do', id='10000'>,\n",
       " <JIRA Status: name='Done', id='10001'>]"
      ]
     },
     "execution_count": 185,
     "metadata": {},
     "output_type": "execute_result"
    }
   ],
   "source": [
    "statuses_types = jira.statuses()\n",
    "statuses_types"
   ]
  },
  {
   "cell_type": "markdown",
   "metadata": {},
   "source": [
    "Buscando os recursos necessários\n",
    "--\n",
    "Aqui, utilizo JQL (acrônimo para Jira Query Language) para definir alguns filtros para a busca por issues.\n",
    "\n",
    "Defino o projeto como sendo ``PPJ``, além de que o tipo da issue deva estar entre os tipos padrões de issues (o que não inclui sub-task) e, por fim, que o tipo da issue não seja ``Épico`` (no caso utilizo o id 10001, para garantir que não haja problema com o idioma).\n",
    "\n",
    "Após definir a variável ``jql``, crio uma variável chamada ``issues`` a qual armazena o resultado da função ``jira.search_issues()``, onde foi definida com os parâmetros ``maxResults=100``, para a quantidade máxima de resultados e o parâmetro ``expand='changelog'``, que expande a busca além das issues, retornando também os changelogs de cada uma.\n",
    "\n",
    "Por último, imprimo a lista de issues retornadas."
   ]
  },
  {
   "cell_type": "code",
   "execution_count": 190,
   "metadata": {},
   "outputs": [
    {
     "data": {
      "text/plain": [
       "[<JIRA Issue: key='PPJ-13', id='10012'>,\n",
       " <JIRA Issue: key='PPJ-12', id='10011'>,\n",
       " <JIRA Issue: key='PPJ-11', id='10010'>,\n",
       " <JIRA Issue: key='PPJ-10', id='10009'>,\n",
       " <JIRA Issue: key='PPJ-9', id='10008'>,\n",
       " <JIRA Issue: key='PPJ-8', id='10007'>,\n",
       " <JIRA Issue: key='PPJ-7', id='10006'>,\n",
       " <JIRA Issue: key='PPJ-6', id='10005'>,\n",
       " <JIRA Issue: key='PPJ-5', id='10004'>,\n",
       " <JIRA Issue: key='PPJ-4', id='10003'>,\n",
       " <JIRA Issue: key='PPJ-3', id='10002'>,\n",
       " <JIRA Issue: key='PPJ-2', id='10001'>,\n",
       " <JIRA Issue: key='PPJ-1', id='10000'>]"
      ]
     },
     "execution_count": 190,
     "metadata": {},
     "output_type": "execute_result"
    }
   ],
   "source": [
    "jql = 'project=PPJ AND issuetype in standardIssueTypes() AND issueType != 10001'\n",
    "issues = jira.search_issues(jql, maxResults=100, expand='changelog')\n",
    "issues"
   ]
  },
  {
   "cell_type": "code",
   "execution_count": null,
   "metadata": {},
   "outputs": [],
   "source": [
    "#df.to_csv('test.csv', index=False)"
   ]
  }
 ],
 "metadata": {
  "kernelspec": {
   "display_name": "Python 3",
   "language": "python",
   "name": "python3"
  }
 },
 "nbformat": 4,
 "nbformat_minor": 2
}
